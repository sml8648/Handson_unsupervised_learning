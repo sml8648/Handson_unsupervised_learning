{
  "nbformat": 4,
  "nbformat_minor": 0,
  "metadata": {
    "colab": {
      "name": "end_to_end_machine_learning_project.ipynb",
      "private_outputs": true,
      "provenance": [],
      "collapsed_sections": [],
      "authorship_tag": "ABX9TyO4lKkxw2nQ24dTcbZ/rfRG",
      "include_colab_link": true
    },
    "kernelspec": {
      "name": "python3",
      "display_name": "Python 3"
    },
    "language_info": {
      "name": "python"
    }
  },
  "cells": [
    {
      "cell_type": "markdown",
      "metadata": {
        "id": "view-in-github",
        "colab_type": "text"
      },
      "source": [
        "<a href=\"https://colab.research.google.com/github/sml8648/Handson_unsupervised_learning/blob/main/end_to_end_machine_learning_project.ipynb\" target=\"_parent\"><img src=\"https://colab.research.google.com/assets/colab-badge.svg\" alt=\"Open In Colab\"/></a>"
      ]
    },
    {
      "cell_type": "code",
      "source": [
        "'''Main'''\n",
        "import numpy as np\n",
        "import pandas as pd\n",
        "import os\n",
        "\n",
        "'''Data Viz'''\n",
        "import matplotlib.pyplot as plt\n",
        "import matplotlib as mpl\n",
        "import seaborn as sns\n",
        "color = sns.color_palette()\n",
        "\n",
        "%matplotlib inline\n",
        "\n",
        "'''Data Prep'''\n",
        "from sklearn import preprocessing as pp \n",
        "from scipy.stats import pearsonr \n",
        "from sklearn.model_selection import train_test_split\n",
        "from sklearn.model_selection import StratifiedKFold \n",
        "from sklearn.metrics import log_loss \n",
        "from sklearn.metrics import precision_recall_curve, average_precision_score \n",
        "from sklearn.metrics import roc_curve, auc, roc_auc_score\n",
        "from sklearn.metrics import confusion_matrix, classification_report \n",
        "\n",
        "'''Algos'''\n",
        "from sklearn.linear_model import LogisticRegression\n",
        "from sklearn.ensemble import RandomForestClassifier\n",
        "# import xgboost as xgb\n",
        "import lightgbm as lgb"
      ],
      "metadata": {
        "id": "VqZpo8YgCgN5"
      },
      "execution_count": null,
      "outputs": []
    },
    {
      "cell_type": "code",
      "source": [
        "data = pd.read_csv('/content/sample_data/creditcard.csv')"
      ],
      "metadata": {
        "id": "dNh6PUNvHMtD"
      },
      "execution_count": null,
      "outputs": []
    },
    {
      "cell_type": "code",
      "source": [
        "data.shape"
      ],
      "metadata": {
        "id": "bBBYmIWGIxao"
      },
      "execution_count": null,
      "outputs": []
    },
    {
      "cell_type": "code",
      "source": [
        "data = data.dropna()"
      ],
      "metadata": {
        "id": "J8oWyCFDHSoC"
      },
      "execution_count": null,
      "outputs": []
    },
    {
      "cell_type": "code",
      "source": [
        "data.shape"
      ],
      "metadata": {
        "id": "RhVcn0VZIwEK"
      },
      "execution_count": null,
      "outputs": []
    },
    {
      "cell_type": "markdown",
      "source": [
        "# Model Preparation"
      ],
      "metadata": {
        "id": "12c0CTjAHZjq"
      }
    },
    {
      "cell_type": "code",
      "source": [
        "dataX = data.copy().drop(['Class'],axis=1)\n",
        "dataY = data['Class'].copy()"
      ],
      "metadata": {
        "id": "J7pYiC4fIBxj"
      },
      "execution_count": null,
      "outputs": []
    },
    {
      "cell_type": "code",
      "source": [
        "X_train, X_test, y_train, y_test = train_test_split(dataX, dataY, test_size=0.33, random_state=2018, stratify=dataY)"
      ],
      "metadata": {
        "id": "kQ3AZ53_Ha9R"
      },
      "execution_count": null,
      "outputs": []
    },
    {
      "cell_type": "code",
      "source": [
        "len(X_train)"
      ],
      "metadata": {
        "id": "5AlBbDG1H-Ab"
      },
      "execution_count": null,
      "outputs": []
    },
    {
      "cell_type": "code",
      "source": [
        "featuresToScale = dataX.drop(['Time'],axis=1).columns"
      ],
      "metadata": {
        "id": "AKfgB0Q4Jd2A"
      },
      "execution_count": null,
      "outputs": []
    },
    {
      "cell_type": "code",
      "source": [
        "featuresToScale"
      ],
      "metadata": {
        "id": "WBkHO0aGJpUC"
      },
      "execution_count": null,
      "outputs": []
    },
    {
      "cell_type": "code",
      "source": [
        "# suppress warnings\n",
        "pd.set_option('mode.chained_assignment', None)\n",
        "\n",
        "sX = pp.StandardScaler(copy=True)\n",
        "X_train.loc[:,featuresToScale] = sX.fit_transform(X_train.loc[:,featuresToScale])\n",
        "scalingFactors = pd.DataFrame(data=[sX.mean_,sX.scale_],index=['Mean','StDev'],columns=featuresToScale)\n",
        "\n",
        "X_test.loc[:,featuresToScale] = sX.transform(X_test.loc[:,featuresToScale])"
      ],
      "metadata": {
        "id": "_3w45tW_Jqda"
      },
      "execution_count": null,
      "outputs": []
    },
    {
      "cell_type": "code",
      "source": [
        "scalingFactors"
      ],
      "metadata": {
        "id": "8-qBDjF5Kglo"
      },
      "execution_count": null,
      "outputs": []
    },
    {
      "cell_type": "code",
      "source": [
        "k_fold = StratifiedKFold(n_splits=5, shuffle=True, random_state=2018)"
      ],
      "metadata": {
        "id": "MFSP1f9NKqAQ"
      },
      "execution_count": null,
      "outputs": []
    },
    {
      "cell_type": "markdown",
      "source": [
        "# Logistic Regression"
      ],
      "metadata": {
        "id": "qIIn6TbEK0YS"
      }
    },
    {
      "cell_type": "code",
      "source": [
        "penalty = 'l2'\n",
        "C = 1.0\n",
        "class_weight = 'balanced'\n",
        "random_state = 2018\n",
        "solver = 'liblinear'\n",
        "n_jobs = 1\n",
        "\n",
        "logReg = LogisticRegression(penalty=penalty, C=C, class_weight=class_weight, random_state=random_state, solver=solver, n_jobs=n_jobs)"
      ],
      "metadata": {
        "id": "w-VUA2dQK1yJ"
      },
      "execution_count": null,
      "outputs": []
    },
    {
      "cell_type": "code",
      "source": [
        "trainingScores = []\n",
        "cvScores = []\n",
        "predictionsBasedOnKFolds = pd.DataFrame(data=[],\n",
        "                                        index=y_train.index,columns=[0,1])\n",
        "\n",
        "model = logReg\n",
        "\n",
        "for train_index, cv_index in k_fold.split(np.zeros(len(X_train))\n",
        "                                          ,y_train.ravel()):\n",
        "    X_train_fold, X_cv_fold = X_train.iloc[train_index,:], \\\n",
        "        X_train.iloc[cv_index,:]\n",
        "    y_train_fold, y_cv_fold = y_train.iloc[train_index], \\\n",
        "        y_train.iloc[cv_index]\n",
        "    \n",
        "    model.fit(X_train_fold, y_train_fold)\n",
        "    loglossTraining = log_loss(y_train_fold, \n",
        "                               model.predict_proba(X_train_fold)[:,1])\n",
        "    trainingScores.append(loglossTraining)\n",
        "    \n",
        "    predictionsBasedOnKFolds.loc[X_cv_fold.index,:] = \\\n",
        "        model.predict_proba(X_cv_fold)  \n",
        "    loglossCV = log_loss(y_cv_fold, \n",
        "                         predictionsBasedOnKFolds.loc[X_cv_fold.index,1])\n",
        "    cvScores.append(loglossCV)\n",
        "    \n",
        "    print('Training Log Loss: ', loglossTraining)\n",
        "    print('CV Log Loss: ', loglossCV)\n",
        "    \n",
        "loglossLogisticRegression = log_loss(y_train, \n",
        "                                     predictionsBasedOnKFolds.loc[:,1])\n",
        "print('Logistic Regression Log Loss: ', loglossLogisticRegression)"
      ],
      "metadata": {
        "id": "FnrQ8fCkLLeB"
      },
      "execution_count": null,
      "outputs": []
    },
    {
      "cell_type": "code",
      "source": [
        "preds = pd.concat([y_train,predictionsBasedOnKFolds.loc[:,1]], axis=1)\n",
        "preds.columns = ['trueLabel','prediction']\n",
        "predictionsBasedOnKFoldsLogisticRegression = preds.copy()"
      ],
      "metadata": {
        "id": "OhcTeTGaOrtC"
      },
      "execution_count": null,
      "outputs": []
    },
    {
      "cell_type": "code",
      "source": [
        "precision, recall, thresholds = precision_recall_curve(preds['trueLabel'],\n",
        "                                                       preds['prediction'])"
      ],
      "metadata": {
        "id": "8_26lNmnOt8K"
      },
      "execution_count": null,
      "outputs": []
    },
    {
      "cell_type": "code",
      "source": [
        "average_precision = average_precision_score(preds['trueLabel'],\n",
        "                                            preds['prediction'])"
      ],
      "metadata": {
        "id": "CctDkuCHOvVx"
      },
      "execution_count": null,
      "outputs": []
    },
    {
      "cell_type": "code",
      "source": [
        "plt.step(recall, precision, color='k', alpha=0.7, where='post')\n",
        "plt.fill_between(recall, precision, step='post', alpha=0.3, color='k')\n",
        "\n",
        "plt.xlabel('Recall')\n",
        "plt.ylabel('Precision')\n",
        "plt.ylim([0.0, 1.05])\n",
        "plt.xlim([0.0, 1.0])\n",
        "\n",
        "plt.title('Precision-Recall curve: Average Precision = {0:0.2f}'.format(\n",
        "          average_precision))"
      ],
      "metadata": {
        "id": "h0tWuaukOxZ6"
      },
      "execution_count": null,
      "outputs": []
    },
    {
      "cell_type": "markdown",
      "source": [
        "# Random Forests"
      ],
      "metadata": {
        "id": "mqZRHIpl-yxK"
      }
    },
    {
      "cell_type": "code",
      "source": [
        "n_estimators = 10\n",
        "max_features = 'auto'\n",
        "max_depth = None\n",
        "min_samples_split = 2\n",
        "min_samples_leaf = 1\n",
        "min_weight_fraction_leaf = 0.0\n",
        "max_leaf_nodes = None\n",
        "bootstrap = True\n",
        "oob_score = False\n",
        "n_jobs = -1\n",
        "random_state = 2018\n",
        "class_weight = 'balanced'\n",
        "\n",
        "RFC = RandomForestClassifier(n_estimators=n_estimators, \n",
        "        max_features=max_features, max_depth=max_depth,\n",
        "        min_samples_split=min_samples_split, min_samples_leaf=min_samples_leaf,\n",
        "        min_weight_fraction_leaf=min_weight_fraction_leaf, \n",
        "        max_leaf_nodes=max_leaf_nodes, bootstrap=bootstrap, \n",
        "        oob_score=oob_score, n_jobs=n_jobs, random_state=random_state, \n",
        "        class_weight=class_weight)"
      ],
      "metadata": {
        "id": "oRP0zdW7-0_G"
      },
      "execution_count": null,
      "outputs": []
    },
    {
      "cell_type": "code",
      "source": [
        "y_train.ravel().shape"
      ],
      "metadata": {
        "id": "nUaq1SZCCPye"
      },
      "execution_count": null,
      "outputs": []
    },
    {
      "cell_type": "code",
      "source": [
        "trainingScores = []\n",
        "cvScores = []\n",
        "predictionsBasedOnKFolds = pd.DataFrame(data=[],\n",
        "                                        index=y_train.index,columns=[0,1])\n",
        "\n",
        "model = RFC\n",
        "\n",
        "for train_index, cv_index in k_fold.split(np.zeros(len(X_train)),\n",
        "                                          y_train.ravel()):\n",
        "    X_train_fold, X_cv_fold = X_train.iloc[train_index,:], \\\n",
        "        X_train.iloc[cv_index,:]\n",
        "    y_train_fold, y_cv_fold = y_train.iloc[train_index], \\\n",
        "        y_train.iloc[cv_index]\n",
        "    \n",
        "    model.fit(X_train_fold, y_train_fold)\n",
        "    loglossTraining = log_loss(y_train_fold, \\\n",
        "                                model.predict_proba(X_train_fold)[:,1])\n",
        "    trainingScores.append(loglossTraining)\n",
        "    \n",
        "    predictionsBasedOnKFolds.loc[X_cv_fold.index,:] = \\\n",
        "        model.predict_proba(X_cv_fold)  \n",
        "    loglossCV = log_loss(y_cv_fold, \\\n",
        "        predictionsBasedOnKFolds.loc[X_cv_fold.index,1])\n",
        "    cvScores.append(loglossCV)\n",
        "    \n",
        "    print('Training Log Loss: ', loglossTraining)\n",
        "    print('CV Log Loss: ', loglossCV)\n",
        "    \n",
        "loglossRandomForestsClassifier = log_loss(y_train, \n",
        "                                          predictionsBasedOnKFolds.loc[:,1])\n",
        "print('Random Forests Log Loss: ', loglossRandomForestsClassifier)"
      ],
      "metadata": {
        "id": "3UH2jPve_JIg"
      },
      "execution_count": null,
      "outputs": []
    },
    {
      "cell_type": "code",
      "source": [
        "preds = pd.concat([y_train,predictionsBasedOnKFolds.loc[:,1]], axis=1)\n",
        "preds.columns = ['trueLabel','prediction']\n",
        "predictionsBasedOnKFoldsRandomForests = preds.copy()\n",
        "\n",
        "precision, recall, thresholds = precision_recall_curve(preds['trueLabel'],\n",
        "                                                       preds['prediction'])\n",
        "average_precision = average_precision_score(preds['trueLabel'],\n",
        "                                            preds['prediction'])\n",
        "\n",
        "plt.step(recall, precision, color='k', alpha=0.7, where='post')\n",
        "plt.fill_between(recall, precision, step='post', alpha=0.3, color='k')\n",
        "\n",
        "plt.xlabel('Recall')\n",
        "plt.ylabel('Precision')\n",
        "plt.ylim([0.0, 1.05])\n",
        "plt.xlim([0.0, 1.0])\n",
        "\n",
        "plt.title('Precision-Recall curve: Average Precision = {0:0.2f}'.format(\n",
        "          average_precision))\n",
        "\n",
        "fpr, tpr, thresholds = roc_curve(preds['trueLabel'],preds['prediction'])\n",
        "areaUnderROC = auc(fpr, tpr)\n",
        "\n",
        "plt.figure()\n",
        "plt.plot(fpr, tpr, color='r', lw=2, label='ROC curve')\n",
        "plt.plot([0, 1], [0, 1], color='k', lw=2, linestyle='--')\n",
        "plt.xlim([0.0, 1.0])\n",
        "plt.ylim([0.0, 1.05])\n",
        "plt.xlabel('False Positive Rate')\n",
        "plt.ylabel('True Positive Rate')\n",
        "plt.title('Receiver operating characteristic: \\\n",
        "          Area under the curve = {0:0.2f}'.format(\n",
        "          areaUnderROC))\n",
        "plt.legend(loc=\"lower right\")\n",
        "plt.show()"
      ],
      "metadata": {
        "id": "UsZqOXyqDiAE"
      },
      "execution_count": null,
      "outputs": []
    },
    {
      "cell_type": "markdown",
      "source": [
        "# XGBoost"
      ],
      "metadata": {
        "id": "s757NhV4FKKx"
      }
    },
    {
      "cell_type": "code",
      "source": [
        "params_xGB = {\n",
        "    'nthread':16, #number of cores\n",
        "    'learning rate': 0.3, #range 0 to 1, default 0.3\n",
        "    'gamma': 0, #range 0 to infinity, default 0 \n",
        "        # increase to reduce complexity (increase bias, reduce variance)\n",
        "    'max_depth': 6, #range 1 to infinity, default 6\n",
        "    'min_child_weight': 1, #range 0 to infinity, default 1\n",
        "    'max_delta_step': 0, #range 0 to infinity, default 0\n",
        "    'subsample': 1.0, #range 0 to 1, default 1\n",
        "        # subsample ratio of the training examples\n",
        "    'colsample_bytree': 1.0, #range 0 to 1, default 1 \n",
        "        # subsample ratio of features\n",
        "    'objective':'binary:logistic',\n",
        "    'num_class':1,\n",
        "    'eval_metric':'logloss',\n",
        "    'seed':2018,\n",
        "    'silent':1\n",
        "}"
      ],
      "metadata": {
        "id": "HxEZq48NEuNt"
      },
      "execution_count": null,
      "outputs": []
    },
    {
      "cell_type": "code",
      "source": [
        "trainingScores = []\n",
        "cvScores = []\n",
        "predictionsBasedOnKFolds = pd.DataFrame(data=[],\n",
        "                                    index=y_train.index,columns=['prediction'])\n",
        "\n",
        "for train_index, cv_index in k_fold.split(np.zeros(len(X_train)),\n",
        "                                          y_train.ravel()):\n",
        "    X_train_fold, X_cv_fold = X_train.iloc[train_index,:], \\\n",
        "        X_train.iloc[cv_index,:]\n",
        "    y_train_fold, y_cv_fold = y_train.iloc[train_index], \\\n",
        "        y_train.iloc[cv_index]\n",
        "    \n",
        "    dtrain = xgb.DMatrix(data=X_train_fold, label=y_train_fold)\n",
        "    dCV = xgb.DMatrix(data=X_cv_fold)\n",
        "    \n",
        "    bst = xgb.cv(params_xGB, dtrain, num_boost_round=2000, \n",
        "                 nfold=5, early_stopping_rounds=200, verbose_eval=50)\n",
        "    \n",
        "    best_rounds = np.argmin(bst['test-logloss-mean'])\n",
        "    bst = xgb.train(params_xGB, dtrain, best_rounds)\n",
        "    \n",
        "    loglossTraining = log_loss(y_train_fold, bst.predict(dtrain))\n",
        "    trainingScores.append(loglossTraining)\n",
        "    \n",
        "    predictionsBasedOnKFolds.loc[X_cv_fold.index,'prediction'] = \\\n",
        "        bst.predict(dCV)\n",
        "    loglossCV = log_loss(y_cv_fold, \\\n",
        "        predictionsBasedOnKFolds.loc[X_cv_fold.index,'prediction'])\n",
        "    cvScores.append(loglossCV)\n",
        "    \n",
        "    print('Training Log Loss: ', loglossTraining)\n",
        "    print('CV Log Loss: ', loglossCV)\n",
        "    \n",
        "loglossXGBoostGradientBoosting = \\\n",
        "    log_loss(y_train, predictionsBasedOnKFolds.loc[:,'prediction'])\n",
        "print('XGBoost Gradient Boosting Log Loss: ', loglossXGBoostGradientBoosting)"
      ],
      "metadata": {
        "id": "mz0PlRABFI2P"
      },
      "execution_count": null,
      "outputs": []
    },
    {
      "cell_type": "markdown",
      "source": [
        "# LightGBM"
      ],
      "metadata": {
        "id": "AnWH69C_FXLE"
      }
    },
    {
      "cell_type": "code",
      "source": [
        "params_lightGB = {\n",
        "    'task': 'train',\n",
        "    'num_class':1,\n",
        "    'boosting': 'gbdt',\n",
        "    'objective': 'binary',\n",
        "    'metric': 'binary_logloss',\n",
        "    'metric_freq':50,\n",
        "    'is_training_metric':False,\n",
        "    'max_depth':4,\n",
        "    'num_leaves': 31,\n",
        "    'learning_rate': 0.01,\n",
        "    'feature_fraction': 1.0,\n",
        "    'bagging_fraction': 1.0,\n",
        "    'bagging_freq': 0,\n",
        "    'bagging_seed': 2018,\n",
        "    'verbose': -1,\n",
        "    'num_threads':16\n",
        "}"
      ],
      "metadata": {
        "id": "PrkOk6t5FY3_"
      },
      "execution_count": null,
      "outputs": []
    },
    {
      "cell_type": "code",
      "source": [
        "trainingScores = []\n",
        "cvScores = []\n",
        "predictionsBasedOnKFolds = pd.DataFrame(data=[],\n",
        "                                index=y_train.index,columns=['prediction'])\n",
        "\n",
        "for train_index, cv_index in k_fold.split(np.zeros(len(X_train)),\n",
        "                                          y_train.ravel()):\n",
        "    X_train_fold, X_cv_fold = X_train.iloc[train_index,:], \\\n",
        "        X_train.iloc[cv_index,:]\n",
        "    y_train_fold, y_cv_fold = y_train.iloc[train_index], \\\n",
        "        y_train.iloc[cv_index]\n",
        "    \n",
        "    lgb_train = lgb.Dataset(X_train_fold, y_train_fold)\n",
        "    lgb_eval = lgb.Dataset(X_cv_fold, y_cv_fold, reference=lgb_train)\n",
        "    gbm = lgb.train(params_lightGB, lgb_train, num_boost_round=2000,\n",
        "                   valid_sets=lgb_eval, early_stopping_rounds=200)\n",
        "    \n",
        "    loglossTraining = log_loss(y_train_fold, \\\n",
        "                gbm.predict(X_train_fold, num_iteration=gbm.best_iteration))\n",
        "    trainingScores.append(loglossTraining)\n",
        "    \n",
        "    predictionsBasedOnKFolds.loc[X_cv_fold.index,'prediction'] = \\\n",
        "        gbm.predict(X_cv_fold, num_iteration=gbm.best_iteration) \n",
        "    loglossCV = log_loss(y_cv_fold, \\\n",
        "        predictionsBasedOnKFolds.loc[X_cv_fold.index,'prediction'])\n",
        "    cvScores.append(loglossCV)\n",
        "    \n",
        "    print('Training Log Loss: ', loglossTraining)\n",
        "    print('CV Log Loss: ', loglossCV)\n",
        "    \n",
        "loglossLightGBMGradientBoosting = \\\n",
        "    log_loss(y_train, predictionsBasedOnKFolds.loc[:,'prediction'])\n",
        "print('LightGBM Gradient Boosting Log Loss: ', loglossLightGBMGradientBoosting)"
      ],
      "metadata": {
        "id": "8otGA9StFaAf"
      },
      "execution_count": null,
      "outputs": []
    },
    {
      "cell_type": "code",
      "source": [
        "preds = pd.concat([y_train,predictionsBasedOnKFolds.loc[:,'prediction']], axis=1)\n",
        "preds.columns = ['trueLabel','prediction']\n",
        "predictionsBasedOnKFoldsLightGBMGradientBoosting = preds.copy()\n",
        "\n",
        "precision, recall, thresholds = \\\n",
        "    precision_recall_curve(preds['trueLabel'],preds['prediction'])\n",
        "average_precision = \\\n",
        "    average_precision_score(preds['trueLabel'],preds['prediction'])\n",
        "\n",
        "plt.step(recall, precision, color='k', alpha=0.7, where='post')\n",
        "plt.fill_between(recall, precision, step='post', alpha=0.3, color='k')\n",
        "\n",
        "plt.xlabel('Recall')\n",
        "plt.ylabel('Precision')\n",
        "plt.ylim([0.0, 1.05])\n",
        "plt.xlim([0.0, 1.0])\n",
        "\n",
        "plt.title('Precision-Recall curve: Average Precision = {0:0.2f}'.format(\n",
        "          average_precision))\n",
        "\n",
        "fpr, tpr, thresholds = roc_curve(preds['trueLabel'],preds['prediction'])\n",
        "areaUnderROC = auc(fpr, tpr)\n",
        "\n",
        "plt.figure()\n",
        "plt.plot(fpr, tpr, color='r', lw=2, label='ROC curve')\n",
        "plt.plot([0, 1], [0, 1], color='k', lw=2, linestyle='--')\n",
        "plt.xlim([0.0, 1.0])\n",
        "plt.ylim([0.0, 1.05])\n",
        "plt.xlabel('False Positive Rate')\n",
        "plt.ylabel('True Positive Rate')\n",
        "plt.title('Receiver operating characteristic: \\\n",
        "Area under the curve = {0:0.2f}'.format(areaUnderROC))\n",
        "plt.legend(loc=\"lower right\")\n",
        "plt.show()"
      ],
      "metadata": {
        "id": "ciC1HOs5FbSP"
      },
      "execution_count": null,
      "outputs": []
    },
    {
      "cell_type": "markdown",
      "source": [
        "# Test Set Evaluation"
      ],
      "metadata": {
        "id": "7uTJTvU2Gh2L"
      }
    },
    {
      "cell_type": "code",
      "source": [
        "predictionsTestSetLogisticRegression = pd.DataFrame(data=[],index=y_test.index,columns=['prediction'])\n",
        "predictionsTestSetLogisticRegression.loc[:,'prediction'] = logReg.predict_proba(X_test)[:,1]\n",
        "logLossTestSetLogisticRegression = log_loss(y_test, predictionsTestSetLogisticRegression)"
      ],
      "metadata": {
        "id": "d8YQ6ySOGjXY"
      },
      "execution_count": null,
      "outputs": []
    },
    {
      "cell_type": "code",
      "source": [
        "predictionsTestSetRandomForests = pd.DataFrame(data=[],index=y_test.index,columns=['prediction'])\n",
        "predictionsTestSetRandomForests.loc[:,'prediction'] = RFC.predict_proba(X_test)[:,1]\n",
        "logLossTestSetRandomForests = log_loss(y_test, predictionsTestSetRandomForests)"
      ],
      "metadata": {
        "id": "djV52-4eHY_g"
      },
      "execution_count": null,
      "outputs": []
    },
    {
      "cell_type": "code",
      "source": [
        "predictionsTestSetLightGBMGradientBoosting = pd.DataFrame(data=[],index=y_test.index,columns=['prediction'])\n",
        "predictionsTestSetLightGBMGradientBoosting.loc[:,'prediction'] = gbm.predict(X_test, num_iteration=gbm.best_iteration)\n",
        "logLossTestSetLightGBMGradientBoosting = log_loss(y_test, predictionsTestSetLightGBMGradientBoosting)"
      ],
      "metadata": {
        "id": "Zg4UcIHFHmep"
      },
      "execution_count": null,
      "outputs": []
    },
    {
      "cell_type": "code",
      "source": [
        "print(\"Log Loss of Logistic Regression on Test Set: \", logLossTestSetLogisticRegression)\n",
        "print(\"Log Loss of Random Forests on Test Set: \", logLossTestSetRandomForests)\n",
        "# print(\"Log Loss of XGBoost Gradient Boosting on Test Set: \", logLossTestSetXGBoostGradientBoosting)\n",
        "print(\"Log Loss of LightGBM Gradient Boosting on Test Set: \", logLossTestSetLightGBMGradientBoosting)"
      ],
      "metadata": {
        "id": "Tz7aV8ydHppg"
      },
      "execution_count": null,
      "outputs": []
    },
    {
      "cell_type": "code",
      "source": [
        "precision, recall, thresholds = precision_recall_curve(y_test,predictionsTestSetLogisticRegression)\n",
        "average_precision = average_precision_score(y_test,predictionsTestSetLogisticRegression)\n",
        "\n",
        "plt.step(recall, precision, color='k', alpha=0.7, where='post')\n",
        "plt.fill_between(recall, precision, step='post', alpha=0.3, color='k')\n",
        "\n",
        "plt.xlabel('Recall')\n",
        "plt.ylabel('Precision')\n",
        "plt.ylim([0.0, 1.05])\n",
        "plt.xlim([0.0, 1.0])\n",
        "\n",
        "plt.title('Precision-Recall curve: Average Precision = {0:0.2f}'.format(\n",
        "          average_precision))\n",
        "\n",
        "fpr, tpr, thresholds = roc_curve(y_test,predictionsTestSetLogisticRegression)\n",
        "areaUnderROC = auc(fpr, tpr)\n",
        "\n",
        "plt.figure()\n",
        "plt.plot(fpr, tpr, color='r', lw=2, label='ROC curve')\n",
        "plt.plot([0, 1], [0, 1], color='k', lw=2, linestyle='--')\n",
        "plt.xlim([0.0, 1.0])\n",
        "plt.ylim([0.0, 1.05])\n",
        "plt.xlabel('False Positive Rate')\n",
        "plt.ylabel('True Positive Rate')\n",
        "plt.title('Receiver operating characteristic: \\\n",
        "Area under the curve = {0:0.2f}'.format(areaUnderROC))\n",
        "plt.legend(loc=\"lower right\")\n",
        "plt.show()\n"
      ],
      "metadata": {
        "id": "61VgACGPHt2n"
      },
      "execution_count": null,
      "outputs": []
    },
    {
      "cell_type": "code",
      "source": [
        "precision, recall, thresholds = precision_recall_curve(y_test,predictionsTestSetRandomForests)\n",
        "average_precision = average_precision_score(y_test,predictionsTestSetRandomForests)\n",
        "\n",
        "plt.step(recall, precision, color='k', alpha=0.7, where='post')\n",
        "plt.fill_between(recall, precision, step='post', alpha=0.3, color='k')\n",
        "\n",
        "plt.xlabel('Recall')\n",
        "plt.ylabel('Precision')\n",
        "plt.ylim([0.0, 1.05])\n",
        "plt.xlim([0.0, 1.0])\n",
        "\n",
        "plt.title('Precision-Recall curve: Average Precision = {0:0.2f}'.format(\n",
        "          average_precision))\n",
        "\n",
        "fpr, tpr, thresholds = roc_curve(y_test,predictionsTestSetRandomForests)\n",
        "areaUnderROC = auc(fpr, tpr)\n",
        "\n",
        "plt.figure()\n",
        "plt.plot(fpr, tpr, color='r', lw=2, label='ROC curve')\n",
        "plt.plot([0, 1], [0, 1], color='k', lw=2, linestyle='--')\n",
        "plt.xlim([0.0, 1.0])\n",
        "plt.ylim([0.0, 1.05])\n",
        "plt.xlabel('False Positive Rate')\n",
        "plt.ylabel('True Positive Rate')\n",
        "plt.title('Receiver operating characteristic: \\\n",
        "Area under the curve = {0:0.2f}'.format(areaUnderROC))\n",
        "plt.legend(loc=\"lower right\")\n",
        "plt.show()"
      ],
      "metadata": {
        "id": "RZobogOaHyCA"
      },
      "execution_count": null,
      "outputs": []
    },
    {
      "cell_type": "code",
      "source": [
        "precision, recall, thresholds = precision_recall_curve(y_test,predictionsTestSetLightGBMGradientBoosting)\n",
        "average_precision = average_precision_score(y_test,predictionsTestSetLightGBMGradientBoosting)\n",
        "\n",
        "plt.step(recall, precision, color='k', alpha=0.7, where='post')\n",
        "plt.fill_between(recall, precision, step='post', alpha=0.3, color='k')\n",
        "\n",
        "plt.xlabel('Recall')\n",
        "plt.ylabel('Precision')\n",
        "plt.ylim([0.0, 1.05])\n",
        "plt.xlim([0.0, 1.0])\n",
        "\n",
        "plt.title('Precision-Recall curve: Average Precision = {0:0.2f}'.format(\n",
        "          average_precision))\n",
        "\n",
        "fpr, tpr, thresholds = \\\n",
        "    roc_curve(y_test,predictionsTestSetLightGBMGradientBoosting)\n",
        "areaUnderROC = auc(fpr, tpr)\n",
        "\n",
        "plt.figure()\n",
        "plt.plot(fpr, tpr, color='r', lw=2, label='ROC curve')\n",
        "plt.plot([0, 1], [0, 1], color='k', lw=2, linestyle='--')\n",
        "plt.xlim([0.0, 1.0])\n",
        "plt.ylim([0.0, 1.05])\n",
        "plt.xlabel('False Positive Rate')\n",
        "plt.ylabel('True Positive Rate')\n",
        "plt.title('Receiver operating characteristic: \\\n",
        "Area under the curve = {0:0.2f}'.format(areaUnderROC))\n",
        "plt.legend(loc=\"lower right\")\n",
        "plt.show()"
      ],
      "metadata": {
        "id": "4HBDcQ6NH1BI"
      },
      "execution_count": null,
      "outputs": []
    },
    {
      "cell_type": "markdown",
      "source": [
        "# Ensemble"
      ],
      "metadata": {
        "id": "R0XBHf8oIqby"
      }
    },
    {
      "cell_type": "code",
      "source": [
        "predictionsBasedOnKFoldsFourModels = pd.DataFrame(data=[],index=y_train.index)"
      ],
      "metadata": {
        "id": "I84R9hdkIrue"
      },
      "execution_count": null,
      "outputs": []
    },
    {
      "cell_type": "code",
      "source": [
        "predictionsBasedOnKFoldsFourModels = predictionsBasedOnKFoldsFourModels.join(\n",
        "    predictionsBasedOnKFoldsLogisticRegression['prediction'].astype(float), \\\n",
        "    how='left').join(predictionsBasedOnKFoldsRandomForests['prediction'] \\\n",
        "    .astype(float),how='left',rsuffix=\"2\").join( \\\n",
        "    predictionsBasedOnKFoldsLightGBMGradientBoosting['prediction'].astype(float), \\\n",
        "    how='left',rsuffix=\"4\")"
      ],
      "metadata": {
        "id": "9TeYHFV6I6_w"
      },
      "execution_count": null,
      "outputs": []
    },
    {
      "cell_type": "code",
      "source": [
        "predictionsBasedOnKFoldsFourModels.columns = \\\n",
        "    ['predsLR','predsRF','predsLightGBM']"
      ],
      "metadata": {
        "id": "MpBTbgklI-jR"
      },
      "execution_count": null,
      "outputs": []
    },
    {
      "cell_type": "code",
      "source": [
        "X_trainWithPredictions = X_train.merge(predictionsBasedOnKFoldsFourModels, left_index=True,right_index=True)"
      ],
      "metadata": {
        "id": "Up2OHSU3JJzE"
      },
      "execution_count": null,
      "outputs": []
    },
    {
      "cell_type": "code",
      "source": [
        "params_lightGB = {\n",
        "    'task': 'train',\n",
        "    'num_class':1,\n",
        "    'boosting': 'gbdt',\n",
        "    'objective': 'binary',\n",
        "    'metric': 'binary_logloss',\n",
        "    'metric_freq':50,\n",
        "    'is_training_metric':False,\n",
        "    'max_depth':4,\n",
        "    'num_leaves': 31,\n",
        "    'learning_rate': 0.01,\n",
        "    'feature_fraction': 1.0,\n",
        "    'bagging_fraction': 1.0,\n",
        "    'bagging_freq': 0,\n",
        "    'bagging_seed': 2018,\n",
        "    'verbose': -1,\n",
        "    'num_threads':16\n",
        "}"
      ],
      "metadata": {
        "id": "E7JKIetbJR_f"
      },
      "execution_count": null,
      "outputs": []
    },
    {
      "cell_type": "code",
      "source": [
        "trainingScores = []\n",
        "cvScores = []\n",
        "predictionsBasedOnKFoldsEnsemble = \\\n",
        "    pd.DataFrame(data=[],index=y_train.index,columns=['prediction'])\n",
        "\n",
        "for train_index, cv_index in k_fold.split(np.zeros(len(X_train)), \\\n",
        "                                          y_train.ravel()):\n",
        "    X_train_fold, X_cv_fold = \\\n",
        "        X_trainWithPredictions.iloc[train_index,:], \\\n",
        "        X_trainWithPredictions.iloc[cv_index,:]\n",
        "    y_train_fold, y_cv_fold = y_train.iloc[train_index], y_train.iloc[cv_index]\n",
        "    \n",
        "    lgb_train = lgb.Dataset(X_train_fold, y_train_fold)\n",
        "    lgb_eval = lgb.Dataset(X_cv_fold, y_cv_fold, reference=lgb_train)\n",
        "    gbm = lgb.train(params_lightGB, lgb_train, num_boost_round=2000,\n",
        "                   valid_sets=lgb_eval, early_stopping_rounds=200)\n",
        "    \n",
        "    loglossTraining = log_loss(y_train_fold, \\\n",
        "        gbm.predict(X_train_fold, num_iteration=gbm.best_iteration))\n",
        "    trainingScores.append(loglossTraining)\n",
        "    \n",
        "    predictionsBasedOnKFoldsEnsemble.loc[X_cv_fold.index,'prediction'] = \\\n",
        "        gbm.predict(X_cv_fold, num_iteration=gbm.best_iteration) \n",
        "    loglossCV = log_loss(y_cv_fold, \\\n",
        "        predictionsBasedOnKFoldsEnsemble.loc[X_cv_fold.index,'prediction'])\n",
        "    cvScores.append(loglossCV)\n",
        "    \n",
        "    print('Training Log Loss: ', loglossTraining)\n",
        "    print('CV Log Loss: ', loglossCV)\n",
        "    \n",
        "loglossEnsemble = log_loss(y_train, \\\n",
        "        predictionsBasedOnKFoldsEnsemble.loc[:,'prediction'])\n",
        "print('Ensemble Log Loss: ', loglossEnsemble)"
      ],
      "metadata": {
        "id": "ze_rGZ_oKoNR"
      },
      "execution_count": null,
      "outputs": []
    },
    {
      "cell_type": "code",
      "source": [
        "print('Feature importances:', list(gbm.feature_importance()))"
      ],
      "metadata": {
        "id": "49wikXiIKp5o"
      },
      "execution_count": null,
      "outputs": []
    },
    {
      "cell_type": "code",
      "source": [
        "preds = pd.concat([y_train,predictionsBasedOnKFoldsEnsemble.loc[:,'prediction']], axis=1)\n",
        "preds.columns = ['trueLabel','prediction']\n",
        "\n",
        "precision, recall, thresholds = precision_recall_curve(preds['trueLabel'],preds['prediction'])\n",
        "average_precision = average_precision_score(preds['trueLabel'],preds['prediction'])\n",
        "\n",
        "plt.step(recall, precision, color='k', alpha=0.7, where='post')\n",
        "plt.fill_between(recall, precision, step='post', alpha=0.3, color='k')\n",
        "\n",
        "plt.xlabel('Recall')\n",
        "plt.ylabel('Precision')\n",
        "plt.ylim([0.0, 1.05])\n",
        "plt.xlim([0.0, 1.0])\n",
        "\n",
        "plt.title('Precision-Recall curve: Average Precision = {0:0.2f}'.format(\n",
        "          average_precision))\n",
        "\n",
        "fpr, tpr, thresholds = roc_curve(preds['trueLabel'],preds['prediction'])\n",
        "areaUnderROC = auc(fpr, tpr)\n",
        "\n",
        "plt.figure()\n",
        "plt.plot(fpr, tpr, color='r', lw=2, label='ROC curve')\n",
        "plt.plot([0, 1], [0, 1], color='k', lw=2, linestyle='--')\n",
        "plt.xlim([0.0, 1.0])\n",
        "plt.ylim([0.0, 1.05])\n",
        "plt.xlabel('False Positive Rate')\n",
        "plt.ylabel('True Positive Rate')\n",
        "plt.title('Receiver operating characteristic: \\\n",
        "Area under the curve = {0:0.2f}'.format(areaUnderROC))\n",
        "plt.legend(loc=\"lower right\")\n",
        "plt.show()"
      ],
      "metadata": {
        "id": "r4oQ4rf-LPxs"
      },
      "execution_count": null,
      "outputs": []
    },
    {
      "cell_type": "code",
      "source": [
        "scatterData = predictionsTestSetLightGBMGradientBoosting.join(y_test,how='left')\n",
        "scatterData.columns = ['Predicted Probability','True Label']\n",
        "ax = sns.regplot(x=\"True Label\", y=\"Predicted Probability\", color='k', \n",
        "                 fit_reg=False, scatter_kws={'alpha':0.1},\n",
        "                 data=scatterData).set_title( \\\n",
        "                'Plot of Prediction Probabilities and the True Label')"
      ],
      "metadata": {
        "id": "XgOTAS0HLYTJ"
      },
      "execution_count": null,
      "outputs": []
    },
    {
      "cell_type": "code",
      "source": [
        "scatterDataMelted = pd.melt(scatterData, \"True Label\", \\\n",
        "                            var_name=\"Predicted Probability\")\n"
      ],
      "metadata": {
        "id": "IvdJb6ejLobB"
      },
      "execution_count": null,
      "outputs": []
    },
    {
      "cell_type": "code",
      "source": [
        "ax = sns.stripplot(x=\"value\", y=\"Predicted Probability\", \\\n",
        "                   hue='True Label', jitter=0.4, \\\n",
        "                   data=scatterDataMelted).set_title( \\\n",
        "                   'Plot of Prediction Probabilities and the True Label')"
      ],
      "metadata": {
        "id": "-z6Z7xo7NLfA"
      },
      "execution_count": null,
      "outputs": []
    },
    {
      "cell_type": "code",
      "source": [
        "scatterDataMelted"
      ],
      "metadata": {
        "id": "-qXaX1qfNOLI"
      },
      "execution_count": null,
      "outputs": []
    },
    {
      "cell_type": "code",
      "source": [
        ""
      ],
      "metadata": {
        "id": "lLnafgOHNTqY"
      },
      "execution_count": null,
      "outputs": []
    }
  ]
}